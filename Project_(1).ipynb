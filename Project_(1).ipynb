{
  "nbformat": 4,
  "nbformat_minor": 0,
  "metadata": {
    "colab": {
      "provenance": [],
      "authorship_tag": "ABX9TyPERaYRmA8mctZZTu5vihaS",
      "include_colab_link": true
    },
    "kernelspec": {
      "name": "python3",
      "display_name": "Python 3"
    },
    "language_info": {
      "name": "python"
    }
  },
  "cells": [
    {
      "cell_type": "markdown",
      "metadata": {
        "id": "view-in-github",
        "colab_type": "text"
      },
      "source": [
        "<a href=\"https://colab.research.google.com/github/mohamadqawasmii/-Prediction-of-Product-Sales-/blob/main/Project_(1).ipynb\" target=\"_parent\"><img src=\"https://colab.research.google.com/assets/colab-badge.svg\" alt=\"Open In Colab\"/></a>"
      ]
    },
    {
      "cell_type": "markdown",
      "source": [
        "# Prediction of Product Sales #\n",
        "\n"
      ],
      "metadata": {
        "id": "3BKtVzrvig53"
      }
    },
    {
      "cell_type": "markdown",
      "source": [
        " - Author: Mohammad Qawasmi\n"
      ],
      "metadata": {
        "id": "DmjSRUfPnLEv"
      }
    },
    {
      "cell_type": "markdown",
      "source": [
        "## Project Overview"
      ],
      "metadata": {
        "id": "L-rUp06_nVX8"
      }
    },
    {
      "cell_type": "markdown",
      "source": [
        "## Load and Inspect Data"
      ],
      "metadata": {
        "id": "YluSi_IxmoTw"
      }
    },
    {
      "cell_type": "code",
      "source": [],
      "metadata": {
        "id": "1f3j9EkHpHyn"
      },
      "execution_count": null,
      "outputs": []
    },
    {
      "cell_type": "markdown",
      "source": [
        "##Clean Data"
      ],
      "metadata": {
        "id": "Y_WG3p_amzeG"
      }
    },
    {
      "cell_type": "code",
      "source": [],
      "metadata": {
        "id": "5nUTwIpYm94Q"
      },
      "execution_count": null,
      "outputs": []
    },
    {
      "cell_type": "markdown",
      "source": [
        "## Exploratory Data Analysis"
      ],
      "metadata": {
        "id": "7oJHwHRWn2lY"
      }
    },
    {
      "cell_type": "code",
      "source": [],
      "metadata": {
        "id": "dV251SEan3TA"
      },
      "execution_count": null,
      "outputs": []
    },
    {
      "cell_type": "markdown",
      "source": [
        "## Feature Inspection"
      ],
      "metadata": {
        "id": "-8UARhqQn33U"
      }
    },
    {
      "cell_type": "code",
      "source": [],
      "metadata": {
        "id": "kbeIO9Dcn6Sc"
      },
      "execution_count": null,
      "outputs": []
    }
  ]
}